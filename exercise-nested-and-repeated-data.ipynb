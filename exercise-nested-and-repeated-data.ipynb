{
 "cells": [
  {
   "cell_type": "markdown",
   "id": "f556b1c1",
   "metadata": {
    "papermill": {
     "duration": 0.005669,
     "end_time": "2025-03-29T09:43:45.676819",
     "exception": false,
     "start_time": "2025-03-29T09:43:45.671150",
     "status": "completed"
    },
    "tags": []
   },
   "source": [
    "**This notebook is an exercise in the [Advanced SQL](https://www.kaggle.com/learn/advanced-sql) course.  You can reference the tutorial at [this link](https://www.kaggle.com/alexisbcook/nested-and-repeated-data).**\n",
    "\n",
    "---\n"
   ]
  },
  {
   "cell_type": "markdown",
   "id": "ec61e3aa",
   "metadata": {
    "papermill": {
     "duration": 0.004306,
     "end_time": "2025-03-29T09:43:45.685951",
     "exception": false,
     "start_time": "2025-03-29T09:43:45.681645",
     "status": "completed"
    },
    "tags": []
   },
   "source": [
    "# Introduction\n",
    "\n",
    "Now that you know how to query nested and repeated data, you're ready to draw interesting insights from the [GitHub Repos](https://www.kaggle.com/github/github-repos) dataset.  \n",
    "\n",
    "Before you get started, run the following cell to set everything up."
   ]
  },
  {
   "cell_type": "code",
   "execution_count": 1,
   "id": "58d5e235",
   "metadata": {
    "execution": {
     "iopub.execute_input": "2025-03-29T09:43:45.696276Z",
     "iopub.status.busy": "2025-03-29T09:43:45.695876Z",
     "iopub.status.idle": "2025-03-29T09:44:01.903125Z",
     "shell.execute_reply": "2025-03-29T09:44:01.901858Z"
    },
    "papermill": {
     "duration": 16.21443,
     "end_time": "2025-03-29T09:44:01.904878",
     "exception": false,
     "start_time": "2025-03-29T09:43:45.690448",
     "status": "completed"
    },
    "tags": []
   },
   "outputs": [
    {
     "name": "stdout",
     "output_type": "stream",
     "text": [
      "Using Kaggle's public dataset BigQuery integration.\n"
     ]
    },
    {
     "name": "stderr",
     "output_type": "stream",
     "text": [
      "/usr/local/lib/python3.10/dist-packages/google/cloud/bigquery/table.py:1727: UserWarning: BigQuery Storage module not found, fetch data with the REST endpoint instead.\n",
      "  warnings.warn(\n"
     ]
    },
    {
     "name": "stdout",
     "output_type": "stream",
     "text": [
      "Setup Complete\n"
     ]
    }
   ],
   "source": [
    "# Set up feedback system\n",
    "from learntools.core import binder\n",
    "binder.bind(globals())\n",
    "from learntools.sql_advanced.ex3 import *\n",
    "print(\"Setup Complete\")"
   ]
  },
  {
   "cell_type": "markdown",
   "id": "cdf48dbf",
   "metadata": {
    "papermill": {
     "duration": 0.004594,
     "end_time": "2025-03-29T09:44:01.914651",
     "exception": false,
     "start_time": "2025-03-29T09:44:01.910057",
     "status": "completed"
    },
    "tags": []
   },
   "source": [
    "# Exercises\n",
    "\n",
    "### 1) Who had the most commits in 2016?\n",
    "\n",
    "GitHub is the most popular place to collaborate on software projects. A GitHub **repository** (or repo) is a collection of files associated with a specific project, and a GitHub **commit** is a change that a user has made to a repository.  We refer to the user as a **committer**.\n",
    "\n",
    "The `sample_commits` table contains a small sample of GitHub commits, where each row corresponds to different commit.  The code cell below fetches the table and shows the first five rows of this table."
   ]
  },
  {
   "cell_type": "code",
   "execution_count": 2,
   "id": "c73a8fd1",
   "metadata": {
    "execution": {
     "iopub.execute_input": "2025-03-29T09:44:01.925551Z",
     "iopub.status.busy": "2025-03-29T09:44:01.924963Z",
     "iopub.status.idle": "2025-03-29T09:44:03.092448Z",
     "shell.execute_reply": "2025-03-29T09:44:03.091145Z"
    },
    "papermill": {
     "duration": 1.174883,
     "end_time": "2025-03-29T09:44:03.094295",
     "exception": false,
     "start_time": "2025-03-29T09:44:01.919412",
     "status": "completed"
    },
    "tags": []
   },
   "outputs": [
    {
     "name": "stdout",
     "output_type": "stream",
     "text": [
      "Using Kaggle's public dataset BigQuery integration.\n"
     ]
    },
    {
     "data": {
      "text/html": [
       "<div>\n",
       "<style scoped>\n",
       "    .dataframe tbody tr th:only-of-type {\n",
       "        vertical-align: middle;\n",
       "    }\n",
       "\n",
       "    .dataframe tbody tr th {\n",
       "        vertical-align: top;\n",
       "    }\n",
       "\n",
       "    .dataframe thead th {\n",
       "        text-align: right;\n",
       "    }\n",
       "</style>\n",
       "<table border=\"1\" class=\"dataframe\">\n",
       "  <thead>\n",
       "    <tr style=\"text-align: right;\">\n",
       "      <th></th>\n",
       "      <th>commit</th>\n",
       "      <th>tree</th>\n",
       "      <th>parent</th>\n",
       "      <th>author</th>\n",
       "      <th>committer</th>\n",
       "      <th>subject</th>\n",
       "      <th>message</th>\n",
       "      <th>trailer</th>\n",
       "      <th>difference</th>\n",
       "      <th>difference_truncated</th>\n",
       "      <th>repo_name</th>\n",
       "      <th>encoding</th>\n",
       "    </tr>\n",
       "  </thead>\n",
       "  <tbody>\n",
       "    <tr>\n",
       "      <th>0</th>\n",
       "      <td>afdba32e2a9ea729a9f9f280dbf6c718773c7ded</td>\n",
       "      <td>d77cca8a096e5320f3194d4a6ca1b4fef2dc9b99</td>\n",
       "      <td>[d65e55d4999b394e37ffe12543ecd2a17b7c44fc]</td>\n",
       "      <td>{'name': 'Jason Gunthorpe', 'email': 'a99b91d7...</td>\n",
       "      <td>{'name': 'Peter Huewe', 'email': '014f16385c5a...</td>\n",
       "      <td>tpm: Pull everything related to /dev/tpmX into...</td>\n",
       "      <td>tpm: Pull everything related to /dev/tpmX into...</td>\n",
       "      <td>[{'key': 'Signed-off-by', 'value': 'Jason Gunt...</td>\n",
       "      <td>[{'old_mode': 33188, 'new_mode': 33188, 'old_p...</td>\n",
       "      <td>&lt;NA&gt;</td>\n",
       "      <td>torvalds/linux</td>\n",
       "      <td>None</td>\n",
       "    </tr>\n",
       "    <tr>\n",
       "      <th>1</th>\n",
       "      <td>eb846d9f147455e4e5e1863bfb5e31974bb69b7c</td>\n",
       "      <td>443efbb146c7824508be817923bab04c2185810e</td>\n",
       "      <td>[3af6b35261182ff185db1f0fd271254147e2663e]</td>\n",
       "      <td>{'name': 'Hannes Reinecke', 'email': 'b0d1e9e4...</td>\n",
       "      <td>{'name': 'Christoph Hellwig', 'email': '923f77...</td>\n",
       "      <td>scsi: rename SERVICE_ACTION_IN to SERVICE_ACTI...</td>\n",
       "      <td>scsi: rename SERVICE_ACTION_IN to SERVICE_ACTI...</td>\n",
       "      <td>[{'key': 'Signed-off-by', 'value': 'Hannes Rei...</td>\n",
       "      <td>[{'old_mode': 33188, 'new_mode': 33188, 'old_p...</td>\n",
       "      <td>&lt;NA&gt;</td>\n",
       "      <td>torvalds/linux</td>\n",
       "      <td>None</td>\n",
       "    </tr>\n",
       "    <tr>\n",
       "      <th>2</th>\n",
       "      <td>f8798ccbefc0e4ef7438c080b7ba0410738c8cfa</td>\n",
       "      <td>9133440693c02314f1f6f95629b3594ce24ad0f8</td>\n",
       "      <td>[261e767628bb5971b9032439818237cc8511ea94]</td>\n",
       "      <td>{'name': 'Yong Zhang', 'email': '34add0fe16a1f...</td>\n",
       "      <td>{'name': 'Florian Tobias Schandinat', 'email':...</td>\n",
       "      <td>video: irq: Remove IRQF_DISABLED</td>\n",
       "      <td>video: irq: Remove IRQF_DISABLED\\n\\nSince comm...</td>\n",
       "      <td>[{'key': 'Signed-off-by', 'value': 'Yong Zhang...</td>\n",
       "      <td>[{'old_mode': 33188, 'new_mode': 33188, 'old_p...</td>\n",
       "      <td>&lt;NA&gt;</td>\n",
       "      <td>torvalds/linux</td>\n",
       "      <td>None</td>\n",
       "    </tr>\n",
       "    <tr>\n",
       "      <th>3</th>\n",
       "      <td>b83ae6d421435c6204150300f1c25bfbd39cd62b</td>\n",
       "      <td>99c6b661ab7de05c2fd49aa62624d2d6bf8abc69</td>\n",
       "      <td>[de1414a654e66b81b5348dbc5259ecf2fb61655e]</td>\n",
       "      <td>{'name': 'Christoph Hellwig', 'email': '923f77...</td>\n",
       "      <td>{'name': 'Jens Axboe', 'email': 'cd8c6775e60d6...</td>\n",
       "      <td>fs: remove mapping-&gt;backing_dev_info</td>\n",
       "      <td>fs: remove mapping-&gt;backing_dev_info\\n\\nNow th...</td>\n",
       "      <td>[{'key': 'Signed-off-by', 'value': 'Christoph ...</td>\n",
       "      <td>[{'old_mode': 33188, 'new_mode': 33188, 'old_p...</td>\n",
       "      <td>&lt;NA&gt;</td>\n",
       "      <td>torvalds/linux</td>\n",
       "      <td>None</td>\n",
       "    </tr>\n",
       "    <tr>\n",
       "      <th>4</th>\n",
       "      <td>aaabee8b7686dfe49f10289cb4b7a817b99e5dd9</td>\n",
       "      <td>7ccc6cf829a93d46daf484164a5466c91eca2efa</td>\n",
       "      <td>[795e9364215dc98b1dea888ebae22383ecbbb92a, 2f2...</td>\n",
       "      <td>{'name': 'Luciano Coelho', 'email': 'd1ef58086...</td>\n",
       "      <td>{'name': 'Luciano Coelho', 'email': 'd1ef58086...</td>\n",
       "      <td>Merge branch 'wl12xx-next' into for-linville</td>\n",
       "      <td>Merge branch 'wl12xx-next' into for-linville\\n...</td>\n",
       "      <td>[{'key': 'Conflicts', 'value': '', 'email': No...</td>\n",
       "      <td>[{'old_mode': 33188, 'new_mode': 33188, 'old_p...</td>\n",
       "      <td>&lt;NA&gt;</td>\n",
       "      <td>torvalds/linux</td>\n",
       "      <td>None</td>\n",
       "    </tr>\n",
       "  </tbody>\n",
       "</table>\n",
       "</div>"
      ],
      "text/plain": [
       "                                     commit  \\\n",
       "0  afdba32e2a9ea729a9f9f280dbf6c718773c7ded   \n",
       "1  eb846d9f147455e4e5e1863bfb5e31974bb69b7c   \n",
       "2  f8798ccbefc0e4ef7438c080b7ba0410738c8cfa   \n",
       "3  b83ae6d421435c6204150300f1c25bfbd39cd62b   \n",
       "4  aaabee8b7686dfe49f10289cb4b7a817b99e5dd9   \n",
       "\n",
       "                                       tree  \\\n",
       "0  d77cca8a096e5320f3194d4a6ca1b4fef2dc9b99   \n",
       "1  443efbb146c7824508be817923bab04c2185810e   \n",
       "2  9133440693c02314f1f6f95629b3594ce24ad0f8   \n",
       "3  99c6b661ab7de05c2fd49aa62624d2d6bf8abc69   \n",
       "4  7ccc6cf829a93d46daf484164a5466c91eca2efa   \n",
       "\n",
       "                                              parent  \\\n",
       "0         [d65e55d4999b394e37ffe12543ecd2a17b7c44fc]   \n",
       "1         [3af6b35261182ff185db1f0fd271254147e2663e]   \n",
       "2         [261e767628bb5971b9032439818237cc8511ea94]   \n",
       "3         [de1414a654e66b81b5348dbc5259ecf2fb61655e]   \n",
       "4  [795e9364215dc98b1dea888ebae22383ecbbb92a, 2f2...   \n",
       "\n",
       "                                              author  \\\n",
       "0  {'name': 'Jason Gunthorpe', 'email': 'a99b91d7...   \n",
       "1  {'name': 'Hannes Reinecke', 'email': 'b0d1e9e4...   \n",
       "2  {'name': 'Yong Zhang', 'email': '34add0fe16a1f...   \n",
       "3  {'name': 'Christoph Hellwig', 'email': '923f77...   \n",
       "4  {'name': 'Luciano Coelho', 'email': 'd1ef58086...   \n",
       "\n",
       "                                           committer  \\\n",
       "0  {'name': 'Peter Huewe', 'email': '014f16385c5a...   \n",
       "1  {'name': 'Christoph Hellwig', 'email': '923f77...   \n",
       "2  {'name': 'Florian Tobias Schandinat', 'email':...   \n",
       "3  {'name': 'Jens Axboe', 'email': 'cd8c6775e60d6...   \n",
       "4  {'name': 'Luciano Coelho', 'email': 'd1ef58086...   \n",
       "\n",
       "                                             subject  \\\n",
       "0  tpm: Pull everything related to /dev/tpmX into...   \n",
       "1  scsi: rename SERVICE_ACTION_IN to SERVICE_ACTI...   \n",
       "2                   video: irq: Remove IRQF_DISABLED   \n",
       "3               fs: remove mapping->backing_dev_info   \n",
       "4       Merge branch 'wl12xx-next' into for-linville   \n",
       "\n",
       "                                             message  \\\n",
       "0  tpm: Pull everything related to /dev/tpmX into...   \n",
       "1  scsi: rename SERVICE_ACTION_IN to SERVICE_ACTI...   \n",
       "2  video: irq: Remove IRQF_DISABLED\\n\\nSince comm...   \n",
       "3  fs: remove mapping->backing_dev_info\\n\\nNow th...   \n",
       "4  Merge branch 'wl12xx-next' into for-linville\\n...   \n",
       "\n",
       "                                             trailer  \\\n",
       "0  [{'key': 'Signed-off-by', 'value': 'Jason Gunt...   \n",
       "1  [{'key': 'Signed-off-by', 'value': 'Hannes Rei...   \n",
       "2  [{'key': 'Signed-off-by', 'value': 'Yong Zhang...   \n",
       "3  [{'key': 'Signed-off-by', 'value': 'Christoph ...   \n",
       "4  [{'key': 'Conflicts', 'value': '', 'email': No...   \n",
       "\n",
       "                                          difference  difference_truncated  \\\n",
       "0  [{'old_mode': 33188, 'new_mode': 33188, 'old_p...                  <NA>   \n",
       "1  [{'old_mode': 33188, 'new_mode': 33188, 'old_p...                  <NA>   \n",
       "2  [{'old_mode': 33188, 'new_mode': 33188, 'old_p...                  <NA>   \n",
       "3  [{'old_mode': 33188, 'new_mode': 33188, 'old_p...                  <NA>   \n",
       "4  [{'old_mode': 33188, 'new_mode': 33188, 'old_p...                  <NA>   \n",
       "\n",
       "        repo_name encoding  \n",
       "0  torvalds/linux     None  \n",
       "1  torvalds/linux     None  \n",
       "2  torvalds/linux     None  \n",
       "3  torvalds/linux     None  \n",
       "4  torvalds/linux     None  "
      ]
     },
     "execution_count": 2,
     "metadata": {},
     "output_type": "execute_result"
    }
   ],
   "source": [
    "from google.cloud import bigquery\n",
    "\n",
    "# Create a \"Client\" object\n",
    "client = bigquery.Client()\n",
    "\n",
    "# Construct a reference to the \"github_repos\" dataset\n",
    "dataset_ref = client.dataset(\"github_repos\", project=\"bigquery-public-data\")\n",
    "\n",
    "# API request - fetch the dataset\n",
    "dataset = client.get_dataset(dataset_ref)\n",
    "\n",
    "# Construct a reference to the \"sample_commits\" table\n",
    "table_ref = dataset_ref.table(\"sample_commits\")\n",
    "\n",
    "# API request - fetch the table\n",
    "sample_commits_table = client.get_table(table_ref)\n",
    "\n",
    "# Preview the first five lines of the table\n",
    "client.list_rows(sample_commits_table, max_results=5).to_dataframe()"
   ]
  },
  {
   "cell_type": "markdown",
   "id": "4d3b7340",
   "metadata": {
    "papermill": {
     "duration": 0.004917,
     "end_time": "2025-03-29T09:44:03.104545",
     "exception": false,
     "start_time": "2025-03-29T09:44:03.099628",
     "status": "completed"
    },
    "tags": []
   },
   "source": [
    "Run the next code cell to print the table schema. "
   ]
  },
  {
   "cell_type": "code",
   "execution_count": 3,
   "id": "6a172744",
   "metadata": {
    "execution": {
     "iopub.execute_input": "2025-03-29T09:44:03.116040Z",
     "iopub.status.busy": "2025-03-29T09:44:03.115678Z",
     "iopub.status.idle": "2025-03-29T09:44:03.121894Z",
     "shell.execute_reply": "2025-03-29T09:44:03.120856Z"
    },
    "papermill": {
     "duration": 0.013986,
     "end_time": "2025-03-29T09:44:03.123646",
     "exception": false,
     "start_time": "2025-03-29T09:44:03.109660",
     "status": "completed"
    },
    "tags": []
   },
   "outputs": [
    {
     "data": {
      "text/plain": [
       "[SchemaField('commit', 'STRING', 'NULLABLE', None, None, (), None),\n",
       " SchemaField('tree', 'STRING', 'NULLABLE', None, None, (), None),\n",
       " SchemaField('parent', 'STRING', 'REPEATED', None, None, (), None),\n",
       " SchemaField('author', 'RECORD', 'NULLABLE', None, None, (SchemaField('name', 'STRING', 'NULLABLE', None, None, (), None), SchemaField('email', 'STRING', 'NULLABLE', None, None, (), None), SchemaField('time_sec', 'INTEGER', 'NULLABLE', None, None, (), None), SchemaField('tz_offset', 'INTEGER', 'NULLABLE', None, None, (), None), SchemaField('date', 'TIMESTAMP', 'NULLABLE', None, None, (), None)), None),\n",
       " SchemaField('committer', 'RECORD', 'NULLABLE', None, None, (SchemaField('name', 'STRING', 'NULLABLE', None, None, (), None), SchemaField('email', 'STRING', 'NULLABLE', None, None, (), None), SchemaField('time_sec', 'INTEGER', 'NULLABLE', None, None, (), None), SchemaField('tz_offset', 'INTEGER', 'NULLABLE', None, None, (), None), SchemaField('date', 'TIMESTAMP', 'NULLABLE', None, None, (), None)), None),\n",
       " SchemaField('subject', 'STRING', 'NULLABLE', None, None, (), None),\n",
       " SchemaField('message', 'STRING', 'NULLABLE', None, None, (), None),\n",
       " SchemaField('trailer', 'RECORD', 'REPEATED', None, None, (SchemaField('key', 'STRING', 'NULLABLE', None, None, (), None), SchemaField('value', 'STRING', 'NULLABLE', None, None, (), None), SchemaField('email', 'STRING', 'NULLABLE', None, None, (), None)), None),\n",
       " SchemaField('difference', 'RECORD', 'REPEATED', None, None, (SchemaField('old_mode', 'INTEGER', 'NULLABLE', None, None, (), None), SchemaField('new_mode', 'INTEGER', 'NULLABLE', None, None, (), None), SchemaField('old_path', 'STRING', 'NULLABLE', None, None, (), None), SchemaField('new_path', 'STRING', 'NULLABLE', None, None, (), None), SchemaField('old_sha1', 'STRING', 'NULLABLE', None, None, (), None), SchemaField('new_sha1', 'STRING', 'NULLABLE', None, None, (), None), SchemaField('old_repo', 'STRING', 'NULLABLE', None, None, (), None), SchemaField('new_repo', 'STRING', 'NULLABLE', None, None, (), None)), None),\n",
       " SchemaField('difference_truncated', 'BOOLEAN', 'NULLABLE', None, None, (), None),\n",
       " SchemaField('repo_name', 'STRING', 'NULLABLE', None, None, (), None),\n",
       " SchemaField('encoding', 'STRING', 'NULLABLE', None, None, (), None)]"
      ]
     },
     "execution_count": 3,
     "metadata": {},
     "output_type": "execute_result"
    }
   ],
   "source": [
    "# Print information on all the columns in the table\n",
    "sample_commits_table.schema"
   ]
  },
  {
   "cell_type": "markdown",
   "id": "01ea61b1",
   "metadata": {
    "papermill": {
     "duration": 0.005298,
     "end_time": "2025-03-29T09:44:03.134628",
     "exception": false,
     "start_time": "2025-03-29T09:44:03.129330",
     "status": "completed"
    },
    "tags": []
   },
   "source": [
    "Write a query to find the individuals with the most commits in this table in 2016.  Your query should return a table with two columns:\n",
    "- `committer_name` - contains the name of each individual with a commit (from 2016) in the table\n",
    "- `num_commits` - shows the number of commits the individual has in the table (from 2016)\n",
    "\n",
    "Sort the table, so that people with more commits appear first.\n",
    "\n",
    "**NOTE**: You can find the name of each committer and the date of the commit under the \"committer\" column, in the \"name\" and \"date\" child fields, respectively."
   ]
  },
  {
   "cell_type": "code",
   "execution_count": 4,
   "id": "0c17bf97",
   "metadata": {
    "execution": {
     "iopub.execute_input": "2025-03-29T09:44:03.146661Z",
     "iopub.status.busy": "2025-03-29T09:44:03.146323Z",
     "iopub.status.idle": "2025-03-29T09:44:03.901551Z",
     "shell.execute_reply": "2025-03-29T09:44:03.900567Z"
    },
    "papermill": {
     "duration": 0.762981,
     "end_time": "2025-03-29T09:44:03.902965",
     "exception": false,
     "start_time": "2025-03-29T09:44:03.139984",
     "status": "completed"
    },
    "tags": []
   },
   "outputs": [
    {
     "name": "stderr",
     "output_type": "stream",
     "text": [
      "/usr/local/lib/python3.10/dist-packages/google/cloud/bigquery/table.py:1727: UserWarning: BigQuery Storage module not found, fetch data with the REST endpoint instead.\n",
      "  warnings.warn(\n"
     ]
    },
    {
     "data": {
      "text/html": [
       "<div>\n",
       "<style scoped>\n",
       "    .dataframe tbody tr th:only-of-type {\n",
       "        vertical-align: middle;\n",
       "    }\n",
       "\n",
       "    .dataframe tbody tr th {\n",
       "        vertical-align: top;\n",
       "    }\n",
       "\n",
       "    .dataframe thead th {\n",
       "        text-align: right;\n",
       "    }\n",
       "</style>\n",
       "<table border=\"1\" class=\"dataframe\">\n",
       "  <thead>\n",
       "    <tr style=\"text-align: right;\">\n",
       "      <th></th>\n",
       "      <th>committer_name</th>\n",
       "      <th>num_commits</th>\n",
       "    </tr>\n",
       "  </thead>\n",
       "  <tbody>\n",
       "    <tr>\n",
       "      <th>0</th>\n",
       "      <td>Greg Kroah-Hartman</td>\n",
       "      <td>3545</td>\n",
       "    </tr>\n",
       "    <tr>\n",
       "      <th>1</th>\n",
       "      <td>David S. Miller</td>\n",
       "      <td>3120</td>\n",
       "    </tr>\n",
       "    <tr>\n",
       "      <th>2</th>\n",
       "      <td>TensorFlower Gardener</td>\n",
       "      <td>2449</td>\n",
       "    </tr>\n",
       "    <tr>\n",
       "      <th>3</th>\n",
       "      <td>Linus Torvalds</td>\n",
       "      <td>2424</td>\n",
       "    </tr>\n",
       "    <tr>\n",
       "      <th>4</th>\n",
       "      <td>Benjamin Pasero</td>\n",
       "      <td>1127</td>\n",
       "    </tr>\n",
       "  </tbody>\n",
       "</table>\n",
       "</div>"
      ],
      "text/plain": [
       "          committer_name  num_commits\n",
       "0     Greg Kroah-Hartman         3545\n",
       "1        David S. Miller         3120\n",
       "2  TensorFlower Gardener         2449\n",
       "3         Linus Torvalds         2424\n",
       "4        Benjamin Pasero         1127"
      ]
     },
     "metadata": {},
     "output_type": "display_data"
    },
    {
     "data": {
      "application/javascript": [
       "parent.postMessage({\"jupyterEvent\": \"custom.exercise_interaction\", \"data\": {\"outcomeType\": 1, \"valueTowardsCompletion\": 0.25, \"interactionType\": 1, \"questionType\": 2, \"questionId\": \"1_MaxCommits\", \"learnToolsVersion\": \"0.3.4\", \"failureMessage\": \"\", \"exceptionClass\": \"\", \"trace\": \"\"}}, \"*\")"
      ],
      "text/plain": [
       "<IPython.core.display.Javascript object>"
      ]
     },
     "metadata": {},
     "output_type": "display_data"
    },
    {
     "data": {
      "text/markdown": [
       "<span style=\"color:#33cc33\">Correct</span>"
      ],
      "text/plain": [
       "Correct"
      ]
     },
     "metadata": {},
     "output_type": "display_data"
    }
   ],
   "source": [
    "# Write a query to find the answer\n",
    "max_commits_query = \"\"\"\n",
    "                    SELECT committer.name AS committer_name, COUNT(1) AS num_commits\n",
    "                    FROM `bigquery-public-data.github_repos.sample_commits`\n",
    "                    WHERE EXTRACT(YEAR FROM committer.date) = 2016\n",
    "                    GROUP BY committer_name\n",
    "                    ORDER BY num_commits DESC\n",
    "                    \"\"\"\n",
    "\n",
    "# Check your answer\n",
    "q_1.check()"
   ]
  },
  {
   "cell_type": "code",
   "execution_count": 5,
   "id": "196ac41f",
   "metadata": {
    "execution": {
     "iopub.execute_input": "2025-03-29T09:44:03.915639Z",
     "iopub.status.busy": "2025-03-29T09:44:03.915320Z",
     "iopub.status.idle": "2025-03-29T09:44:03.918779Z",
     "shell.execute_reply": "2025-03-29T09:44:03.917950Z"
    },
    "papermill": {
     "duration": 0.011603,
     "end_time": "2025-03-29T09:44:03.920408",
     "exception": false,
     "start_time": "2025-03-29T09:44:03.908805",
     "status": "completed"
    },
    "tags": []
   },
   "outputs": [],
   "source": [
    "# Lines below will give you a hint or solution code\n",
    "#q_1.hint()\n",
    "#q_1.solution()"
   ]
  },
  {
   "cell_type": "markdown",
   "id": "4d5acddd",
   "metadata": {
    "papermill": {
     "duration": 0.0054,
     "end_time": "2025-03-29T09:44:03.931408",
     "exception": false,
     "start_time": "2025-03-29T09:44:03.926008",
     "status": "completed"
    },
    "tags": []
   },
   "source": [
    "### 2) Look at languages!\n",
    "\n",
    "Now you will work with the `languages` table.  Run the code cell below to print the first few rows."
   ]
  },
  {
   "cell_type": "code",
   "execution_count": 6,
   "id": "4a9e666f",
   "metadata": {
    "execution": {
     "iopub.execute_input": "2025-03-29T09:44:03.943891Z",
     "iopub.status.busy": "2025-03-29T09:44:03.943566Z",
     "iopub.status.idle": "2025-03-29T09:44:04.792620Z",
     "shell.execute_reply": "2025-03-29T09:44:04.791594Z"
    },
    "papermill": {
     "duration": 0.857337,
     "end_time": "2025-03-29T09:44:04.794311",
     "exception": false,
     "start_time": "2025-03-29T09:44:03.936974",
     "status": "completed"
    },
    "tags": []
   },
   "outputs": [
    {
     "data": {
      "text/html": [
       "<div>\n",
       "<style scoped>\n",
       "    .dataframe tbody tr th:only-of-type {\n",
       "        vertical-align: middle;\n",
       "    }\n",
       "\n",
       "    .dataframe tbody tr th {\n",
       "        vertical-align: top;\n",
       "    }\n",
       "\n",
       "    .dataframe thead th {\n",
       "        text-align: right;\n",
       "    }\n",
       "</style>\n",
       "<table border=\"1\" class=\"dataframe\">\n",
       "  <thead>\n",
       "    <tr style=\"text-align: right;\">\n",
       "      <th></th>\n",
       "      <th>repo_name</th>\n",
       "      <th>language</th>\n",
       "    </tr>\n",
       "  </thead>\n",
       "  <tbody>\n",
       "    <tr>\n",
       "      <th>0</th>\n",
       "      <td>lemi136/puntovent</td>\n",
       "      <td>[{'name': 'C', 'bytes': 80}]</td>\n",
       "    </tr>\n",
       "    <tr>\n",
       "      <th>1</th>\n",
       "      <td>taxigps/nctool</td>\n",
       "      <td>[{'name': 'C', 'bytes': 4461}]</td>\n",
       "    </tr>\n",
       "    <tr>\n",
       "      <th>2</th>\n",
       "      <td>ahy1/strbuf</td>\n",
       "      <td>[{'name': 'C', 'bytes': 5573}]</td>\n",
       "    </tr>\n",
       "    <tr>\n",
       "      <th>3</th>\n",
       "      <td>nleiten/mod_rpaf-ng</td>\n",
       "      <td>[{'name': 'C', 'bytes': 30330}]</td>\n",
       "    </tr>\n",
       "    <tr>\n",
       "      <th>4</th>\n",
       "      <td>kmcallister/alameda</td>\n",
       "      <td>[{'name': 'C', 'bytes': 17077}]</td>\n",
       "    </tr>\n",
       "  </tbody>\n",
       "</table>\n",
       "</div>"
      ],
      "text/plain": [
       "             repo_name                         language\n",
       "0    lemi136/puntovent     [{'name': 'C', 'bytes': 80}]\n",
       "1       taxigps/nctool   [{'name': 'C', 'bytes': 4461}]\n",
       "2          ahy1/strbuf   [{'name': 'C', 'bytes': 5573}]\n",
       "3  nleiten/mod_rpaf-ng  [{'name': 'C', 'bytes': 30330}]\n",
       "4  kmcallister/alameda  [{'name': 'C', 'bytes': 17077}]"
      ]
     },
     "execution_count": 6,
     "metadata": {},
     "output_type": "execute_result"
    }
   ],
   "source": [
    "# Construct a reference to the \"languages\" table\n",
    "table_ref = dataset_ref.table(\"languages\")\n",
    "\n",
    "# API request - fetch the table\n",
    "languages_table = client.get_table(table_ref)\n",
    "\n",
    "# Preview the first five lines of the table\n",
    "client.list_rows(languages_table, max_results=5).to_dataframe()"
   ]
  },
  {
   "cell_type": "markdown",
   "id": "b2c42990",
   "metadata": {
    "papermill": {
     "duration": 0.005693,
     "end_time": "2025-03-29T09:44:04.805929",
     "exception": false,
     "start_time": "2025-03-29T09:44:04.800236",
     "status": "completed"
    },
    "tags": []
   },
   "source": [
    "Each row of the `languages` table corresponds to a different repository.  \n",
    "- The \"repo_name\" column contains the name of the repository,\n",
    "- the \"name\" field in the \"language\" column contains the programming languages that can be found in the repo, and \n",
    "- the \"bytes\" field in the \"language\" column has the size of the files (in bytes, for the corresponding language).\n",
    "\n",
    "Run the following code cell to print the table schema."
   ]
  },
  {
   "cell_type": "code",
   "execution_count": 7,
   "id": "413154c2",
   "metadata": {
    "execution": {
     "iopub.execute_input": "2025-03-29T09:44:04.818750Z",
     "iopub.status.busy": "2025-03-29T09:44:04.818436Z",
     "iopub.status.idle": "2025-03-29T09:44:04.824170Z",
     "shell.execute_reply": "2025-03-29T09:44:04.823168Z"
    },
    "papermill": {
     "duration": 0.014028,
     "end_time": "2025-03-29T09:44:04.825806",
     "exception": false,
     "start_time": "2025-03-29T09:44:04.811778",
     "status": "completed"
    },
    "tags": []
   },
   "outputs": [
    {
     "data": {
      "text/plain": [
       "[SchemaField('repo_name', 'STRING', 'NULLABLE', None, None, (), None),\n",
       " SchemaField('language', 'RECORD', 'REPEATED', None, None, (SchemaField('name', 'STRING', 'NULLABLE', None, None, (), None), SchemaField('bytes', 'INTEGER', 'NULLABLE', None, None, (), None)), None)]"
      ]
     },
     "execution_count": 7,
     "metadata": {},
     "output_type": "execute_result"
    }
   ],
   "source": [
    "# Print information on all the columns in the table\n",
    "languages_table.schema"
   ]
  },
  {
   "cell_type": "markdown",
   "id": "b0e1aa18",
   "metadata": {
    "papermill": {
     "duration": 0.005669,
     "end_time": "2025-03-29T09:44:04.837582",
     "exception": false,
     "start_time": "2025-03-29T09:44:04.831913",
     "status": "completed"
    },
    "tags": []
   },
   "source": [
    "Assume for the moment that you have access to a table called `sample_languages` that contains only a very small subset of the rows from the `languages` table: in fact, it contains only three rows!  This table is depicted in the image below.\n",
    "\n",
    "![](https://storage.googleapis.com/kaggle-media/learn/images/qAb5lZ2.png)\n",
    "\n",
    "How many rows are in the table returned by the query below?\n",
    "\n",
    "![](https://storage.googleapis.com/kaggle-media/learn/images/Q5qYAtz.png)\n",
    "\n",
    "Fill in your answer in the next code cell."
   ]
  },
  {
   "cell_type": "code",
   "execution_count": 8,
   "id": "c1683953",
   "metadata": {
    "execution": {
     "iopub.execute_input": "2025-03-29T09:44:04.850557Z",
     "iopub.status.busy": "2025-03-29T09:44:04.850231Z",
     "iopub.status.idle": "2025-03-29T09:44:04.856992Z",
     "shell.execute_reply": "2025-03-29T09:44:04.856228Z"
    },
    "papermill": {
     "duration": 0.014998,
     "end_time": "2025-03-29T09:44:04.858449",
     "exception": false,
     "start_time": "2025-03-29T09:44:04.843451",
     "status": "completed"
    },
    "tags": []
   },
   "outputs": [
    {
     "data": {
      "application/javascript": [
       "parent.postMessage({\"jupyterEvent\": \"custom.exercise_interaction\", \"data\": {\"outcomeType\": 1, \"valueTowardsCompletion\": 0.25, \"interactionType\": 1, \"questionType\": 1, \"questionId\": \"2_LookLang\", \"learnToolsVersion\": \"0.3.4\", \"failureMessage\": \"\", \"exceptionClass\": \"\", \"trace\": \"\"}}, \"*\")"
      ],
      "text/plain": [
       "<IPython.core.display.Javascript object>"
      ]
     },
     "metadata": {},
     "output_type": "display_data"
    },
    {
     "data": {
      "text/markdown": [
       "<span style=\"color:#33cc33\">Correct</span>"
      ],
      "text/plain": [
       "Correct"
      ]
     },
     "metadata": {},
     "output_type": "display_data"
    }
   ],
   "source": [
    "# Fill in the blank\n",
    "num_rows = 6\n",
    "\n",
    "# Check your answer\n",
    "q_2.check()"
   ]
  },
  {
   "cell_type": "code",
   "execution_count": 9,
   "id": "0c10e802",
   "metadata": {
    "execution": {
     "iopub.execute_input": "2025-03-29T09:44:04.871548Z",
     "iopub.status.busy": "2025-03-29T09:44:04.871231Z",
     "iopub.status.idle": "2025-03-29T09:44:04.874929Z",
     "shell.execute_reply": "2025-03-29T09:44:04.873899Z"
    },
    "papermill": {
     "duration": 0.012032,
     "end_time": "2025-03-29T09:44:04.876490",
     "exception": false,
     "start_time": "2025-03-29T09:44:04.864458",
     "status": "completed"
    },
    "tags": []
   },
   "outputs": [],
   "source": [
    "# Lines below will give you a hint or solution code\n",
    "#q_2.hint()\n",
    "#q_2.solution()"
   ]
  },
  {
   "cell_type": "markdown",
   "id": "26f9c63f",
   "metadata": {
    "papermill": {
     "duration": 0.005862,
     "end_time": "2025-03-29T09:44:04.888659",
     "exception": false,
     "start_time": "2025-03-29T09:44:04.882797",
     "status": "completed"
    },
    "tags": []
   },
   "source": [
    "### 3) What's the most popular programming language?\n",
    "\n",
    "Write a query to leverage the information in the `languages` table to determine which programming languages appear in the most repositories.  The table returned by your query should have two columns:\n",
    "- `language_name` - the name of the programming language\n",
    "- `num_repos` - the number of repositories in the `languages` table that use the programming language\n",
    "\n",
    "Sort the table so that languages that appear in more repos are shown first."
   ]
  },
  {
   "cell_type": "code",
   "execution_count": 10,
   "id": "0d7ab0cc",
   "metadata": {
    "execution": {
     "iopub.execute_input": "2025-03-29T09:44:04.901621Z",
     "iopub.status.busy": "2025-03-29T09:44:04.901298Z",
     "iopub.status.idle": "2025-03-29T09:44:05.539384Z",
     "shell.execute_reply": "2025-03-29T09:44:05.538429Z"
    },
    "papermill": {
     "duration": 0.646306,
     "end_time": "2025-03-29T09:44:05.540806",
     "exception": false,
     "start_time": "2025-03-29T09:44:04.894500",
     "status": "completed"
    },
    "tags": []
   },
   "outputs": [
    {
     "name": "stderr",
     "output_type": "stream",
     "text": [
      "/usr/local/lib/python3.10/dist-packages/google/cloud/bigquery/table.py:1727: UserWarning: BigQuery Storage module not found, fetch data with the REST endpoint instead.\n",
      "  warnings.warn(\n"
     ]
    },
    {
     "data": {
      "text/html": [
       "<div>\n",
       "<style scoped>\n",
       "    .dataframe tbody tr th:only-of-type {\n",
       "        vertical-align: middle;\n",
       "    }\n",
       "\n",
       "    .dataframe tbody tr th {\n",
       "        vertical-align: top;\n",
       "    }\n",
       "\n",
       "    .dataframe thead th {\n",
       "        text-align: right;\n",
       "    }\n",
       "</style>\n",
       "<table border=\"1\" class=\"dataframe\">\n",
       "  <thead>\n",
       "    <tr style=\"text-align: right;\">\n",
       "      <th></th>\n",
       "      <th>language_name</th>\n",
       "      <th>num_repos</th>\n",
       "    </tr>\n",
       "  </thead>\n",
       "  <tbody>\n",
       "    <tr>\n",
       "      <th>0</th>\n",
       "      <td>JavaScript</td>\n",
       "      <td>1099966</td>\n",
       "    </tr>\n",
       "    <tr>\n",
       "      <th>1</th>\n",
       "      <td>CSS</td>\n",
       "      <td>807826</td>\n",
       "    </tr>\n",
       "    <tr>\n",
       "      <th>2</th>\n",
       "      <td>HTML</td>\n",
       "      <td>777433</td>\n",
       "    </tr>\n",
       "    <tr>\n",
       "      <th>3</th>\n",
       "      <td>Shell</td>\n",
       "      <td>640886</td>\n",
       "    </tr>\n",
       "    <tr>\n",
       "      <th>4</th>\n",
       "      <td>Python</td>\n",
       "      <td>550905</td>\n",
       "    </tr>\n",
       "  </tbody>\n",
       "</table>\n",
       "</div>"
      ],
      "text/plain": [
       "  language_name  num_repos\n",
       "0    JavaScript    1099966\n",
       "1           CSS     807826\n",
       "2          HTML     777433\n",
       "3         Shell     640886\n",
       "4        Python     550905"
      ]
     },
     "metadata": {},
     "output_type": "display_data"
    },
    {
     "data": {
      "application/javascript": [
       "parent.postMessage({\"jupyterEvent\": \"custom.exercise_interaction\", \"data\": {\"outcomeType\": 1, \"valueTowardsCompletion\": 0.25, \"interactionType\": 1, \"questionType\": 2, \"questionId\": \"3_PopLang\", \"learnToolsVersion\": \"0.3.4\", \"failureMessage\": \"\", \"exceptionClass\": \"\", \"trace\": \"\"}}, \"*\")"
      ],
      "text/plain": [
       "<IPython.core.display.Javascript object>"
      ]
     },
     "metadata": {},
     "output_type": "display_data"
    },
    {
     "data": {
      "text/markdown": [
       "<span style=\"color:#33cc33\">Correct</span>"
      ],
      "text/plain": [
       "Correct"
      ]
     },
     "metadata": {},
     "output_type": "display_data"
    }
   ],
   "source": [
    "# Write a query to find the answer\n",
    "pop_lang_query = \"\"\"\n",
    "                 SELECT language.name AS language_name, COUNT(*) AS num_repos\n",
    "                 FROM `bigquery-public-data.github_repos.languages`,\n",
    "                     UNNEST(language) AS language\n",
    "                 GROUP BY language_name\n",
    "                 ORDER BY num_repos DESC\n",
    "                 \"\"\"\n",
    "\n",
    "# Check your answer\n",
    "q_3.check()"
   ]
  },
  {
   "cell_type": "code",
   "execution_count": 11,
   "id": "ca306af2",
   "metadata": {
    "execution": {
     "iopub.execute_input": "2025-03-29T09:44:05.555331Z",
     "iopub.status.busy": "2025-03-29T09:44:05.554945Z",
     "iopub.status.idle": "2025-03-29T09:44:05.558701Z",
     "shell.execute_reply": "2025-03-29T09:44:05.557711Z"
    },
    "papermill": {
     "duration": 0.01267,
     "end_time": "2025-03-29T09:44:05.560274",
     "exception": false,
     "start_time": "2025-03-29T09:44:05.547604",
     "status": "completed"
    },
    "tags": []
   },
   "outputs": [],
   "source": [
    "# Lines below will give you a hint or solution code\n",
    "#q_3.hint()\n",
    "#q_3.solution()"
   ]
  },
  {
   "cell_type": "markdown",
   "id": "44764c3f",
   "metadata": {
    "papermill": {
     "duration": 0.006347,
     "end_time": "2025-03-29T09:44:05.573177",
     "exception": false,
     "start_time": "2025-03-29T09:44:05.566830",
     "status": "completed"
    },
    "tags": []
   },
   "source": [
    "### 4) Which languages are used in the repository with the most languages?\n",
    "\n",
    "For this question, you'll restrict your attention to the repository with name `'polyrabbit/polyglot'`.\n",
    "\n",
    "Write a query that returns a table with one row for each language in this repository.  The table should have two columns:\n",
    "- `name` - the name of the programming language\n",
    "- `bytes` - the total number of bytes of that programming language\n",
    "\n",
    "Sort the table by the `bytes` column so that programming languages that take up more space in the repo appear first."
   ]
  },
  {
   "cell_type": "code",
   "execution_count": 12,
   "id": "7dacdd27",
   "metadata": {
    "execution": {
     "iopub.execute_input": "2025-03-29T09:44:05.587305Z",
     "iopub.status.busy": "2025-03-29T09:44:05.586896Z",
     "iopub.status.idle": "2025-03-29T09:44:06.275223Z",
     "shell.execute_reply": "2025-03-29T09:44:06.274362Z"
    },
    "papermill": {
     "duration": 0.696929,
     "end_time": "2025-03-29T09:44:06.276564",
     "exception": false,
     "start_time": "2025-03-29T09:44:05.579635",
     "status": "completed"
    },
    "tags": []
   },
   "outputs": [
    {
     "name": "stderr",
     "output_type": "stream",
     "text": [
      "/usr/local/lib/python3.10/dist-packages/google/cloud/bigquery/table.py:1727: UserWarning: BigQuery Storage module not found, fetch data with the REST endpoint instead.\n",
      "  warnings.warn(\n"
     ]
    },
    {
     "data": {
      "text/html": [
       "<div>\n",
       "<style scoped>\n",
       "    .dataframe tbody tr th:only-of-type {\n",
       "        vertical-align: middle;\n",
       "    }\n",
       "\n",
       "    .dataframe tbody tr th {\n",
       "        vertical-align: top;\n",
       "    }\n",
       "\n",
       "    .dataframe thead th {\n",
       "        text-align: right;\n",
       "    }\n",
       "</style>\n",
       "<table border=\"1\" class=\"dataframe\">\n",
       "  <thead>\n",
       "    <tr style=\"text-align: right;\">\n",
       "      <th></th>\n",
       "      <th>name</th>\n",
       "      <th>bytes</th>\n",
       "    </tr>\n",
       "  </thead>\n",
       "  <tbody>\n",
       "    <tr>\n",
       "      <th>0</th>\n",
       "      <td>Lasso</td>\n",
       "      <td>834726</td>\n",
       "    </tr>\n",
       "    <tr>\n",
       "      <th>1</th>\n",
       "      <td>C</td>\n",
       "      <td>819142</td>\n",
       "    </tr>\n",
       "    <tr>\n",
       "      <th>2</th>\n",
       "      <td>Mercury</td>\n",
       "      <td>709952</td>\n",
       "    </tr>\n",
       "    <tr>\n",
       "      <th>3</th>\n",
       "      <td>Objective-C</td>\n",
       "      <td>495392</td>\n",
       "    </tr>\n",
       "    <tr>\n",
       "      <th>4</th>\n",
       "      <td>Game Maker Language</td>\n",
       "      <td>298131</td>\n",
       "    </tr>\n",
       "  </tbody>\n",
       "</table>\n",
       "</div>"
      ],
      "text/plain": [
       "                  name   bytes\n",
       "0                Lasso  834726\n",
       "1                    C  819142\n",
       "2              Mercury  709952\n",
       "3          Objective-C  495392\n",
       "4  Game Maker Language  298131"
      ]
     },
     "metadata": {},
     "output_type": "display_data"
    },
    {
     "data": {
      "application/javascript": [
       "parent.postMessage({\"jupyterEvent\": \"custom.exercise_interaction\", \"data\": {\"outcomeType\": 1, \"valueTowardsCompletion\": 0.25, \"interactionType\": 1, \"questionType\": 2, \"questionId\": \"4_AllLangs\", \"learnToolsVersion\": \"0.3.4\", \"failureMessage\": \"\", \"exceptionClass\": \"\", \"trace\": \"\"}}, \"*\")"
      ],
      "text/plain": [
       "<IPython.core.display.Javascript object>"
      ]
     },
     "metadata": {},
     "output_type": "display_data"
    },
    {
     "data": {
      "text/markdown": [
       "<span style=\"color:#33cc33\">Correct</span>"
      ],
      "text/plain": [
       "Correct"
      ]
     },
     "metadata": {},
     "output_type": "display_data"
    }
   ],
   "source": [
    "# Your code here\n",
    "all_langs_query = \"\"\"\n",
    "                  SELECT language.name AS name, language.bytes AS bytes\n",
    "                  FROM `bigquery-public-data.github_repos.languages`,\n",
    "                      UNNEST(language) AS language\n",
    "                  WHERE repo_name = 'polyrabbit/polyglot'\n",
    "                  ORDER BY bytes DESC\n",
    "                  \"\"\"\n",
    "\n",
    "# Check your answer\n",
    "q_4.check()"
   ]
  },
  {
   "cell_type": "code",
   "execution_count": 13,
   "id": "4a37ed72",
   "metadata": {
    "execution": {
     "iopub.execute_input": "2025-03-29T09:44:06.291287Z",
     "iopub.status.busy": "2025-03-29T09:44:06.290926Z",
     "iopub.status.idle": "2025-03-29T09:44:06.294571Z",
     "shell.execute_reply": "2025-03-29T09:44:06.293593Z"
    },
    "papermill": {
     "duration": 0.012662,
     "end_time": "2025-03-29T09:44:06.296056",
     "exception": false,
     "start_time": "2025-03-29T09:44:06.283394",
     "status": "completed"
    },
    "tags": []
   },
   "outputs": [],
   "source": [
    "# Lines below will give you a hint or solution code\n",
    "#q_4.hint()\n",
    "#q_4.solution()"
   ]
  },
  {
   "cell_type": "markdown",
   "id": "126c7502",
   "metadata": {
    "papermill": {
     "duration": 0.006573,
     "end_time": "2025-03-29T09:44:06.309739",
     "exception": false,
     "start_time": "2025-03-29T09:44:06.303166",
     "status": "completed"
    },
    "tags": []
   },
   "source": [
    "# Keep going\n",
    "\n",
    "Learn how to make your queries **[more efficient](https://www.kaggle.com/alexisbcook/writing-efficient-queries)**."
   ]
  },
  {
   "cell_type": "markdown",
   "id": "1b10efed",
   "metadata": {
    "papermill": {
     "duration": 0.006345,
     "end_time": "2025-03-29T09:44:06.322867",
     "exception": false,
     "start_time": "2025-03-29T09:44:06.316522",
     "status": "completed"
    },
    "tags": []
   },
   "source": [
    "---\n",
    "\n",
    "\n",
    "\n",
    "\n",
    "*Have questions or comments? Visit the [course discussion forum](https://www.kaggle.com/learn/advanced-sql/discussion) to chat with other learners.*"
   ]
  }
 ],
 "metadata": {
  "kaggle": {
   "accelerator": "none",
   "dataSources": [
    {
     "datasetId": 6178,
     "sourceId": 337545,
     "sourceType": "datasetVersion"
    }
   ],
   "isGpuEnabled": false,
   "isInternetEnabled": false,
   "language": "python",
   "sourceType": "notebook"
  },
  "kernelspec": {
   "display_name": "Python 3",
   "language": "python",
   "name": "python3"
  },
  "language_info": {
   "codemirror_mode": {
    "name": "ipython",
    "version": 3
   },
   "file_extension": ".py",
   "mimetype": "text/x-python",
   "name": "python",
   "nbconvert_exporter": "python",
   "pygments_lexer": "ipython3",
   "version": "3.10.12"
  },
  "papermill": {
   "default_parameters": {},
   "duration": 24.856529,
   "end_time": "2025-03-29T09:44:07.754239",
   "environment_variables": {},
   "exception": null,
   "input_path": "__notebook__.ipynb",
   "output_path": "__notebook__.ipynb",
   "parameters": {},
   "start_time": "2025-03-29T09:43:42.897710",
   "version": "2.6.0"
  }
 },
 "nbformat": 4,
 "nbformat_minor": 5
}
